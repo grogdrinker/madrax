{
 "cells": [
  {
   "cell_type": "markdown",
   "id": "284ebd31",
   "metadata": {
    "pycharm": {
     "name": "#%%\n"
    }
   },
   "source": [
    "# Optimizing a protein"
   ]
  },
  {
   "cell_type": "markdown",
   "id": "b95ac151",
   "metadata": {},
   "source": [
    "In this tutorial we will explain how to perform a structure optimization using the autograd function of pytorch in combination with MadraX."
   ]
  },
  {
   "cell_type": "markdown",
   "id": "b7fd2096",
   "metadata": {},
   "source": [
    "Let's start again with all the imports"
   ]
  },
  {
   "cell_type": "code",
   "execution_count": 1,
   "id": "027d4526",
   "metadata": {
    "pycharm": {
     "name": "#%%\n"
    }
   },
   "outputs": [
    {
     "ename": "ModuleNotFoundError",
     "evalue": "No module named 'madrax'",
     "output_type": "error",
     "traceback": [
      "\u001b[0;31m---------------------------------------------------------------------------\u001b[0m",
      "\u001b[0;31mModuleNotFoundError\u001b[0m                       Traceback (most recent call last)",
      "Cell \u001b[0;32mIn [1], line 1\u001b[0m\n\u001b[0;32m----> 1\u001b[0m \u001b[38;5;28;01mfrom\u001b[39;00m \u001b[38;5;21;01mmadrax\u001b[39;00m\u001b[38;5;21;01m.\u001b[39;00m\u001b[38;5;21;01mForceField\u001b[39;00m \u001b[38;5;28;01mimport\u001b[39;00m ForceField \u001b[38;5;66;03m# the main PyUUL module\u001b[39;00m\n\u001b[1;32m      2\u001b[0m \u001b[38;5;28;01mfrom\u001b[39;00m \u001b[38;5;21;01mmadrax\u001b[39;00m \u001b[38;5;28;01mimport\u001b[39;00m utils,dataStructures \u001b[38;5;66;03m# the PyUUL utility module\u001b[39;00m\n\u001b[1;32m      3\u001b[0m \u001b[38;5;28;01mimport\u001b[39;00m \u001b[38;5;21;01mtime\u001b[39;00m\u001b[38;5;241m,\u001b[39m\u001b[38;5;21;01mos\u001b[39;00m\u001b[38;5;241m,\u001b[39m\u001b[38;5;21;01murllib\u001b[39;00m\n",
      "\u001b[0;31mModuleNotFoundError\u001b[0m: No module named 'madrax'"
     ]
    }
   ],
   "source": [
    "   from madrax.ForceField import ForceField # the main PyUUL module\n",
    "   from madrax import utils,dataStructures # the PyUUL utility module\n",
    "   import time,os,urllib"
   ]
  },
  {
   "cell_type": "markdown",
   "id": "a32ed5b5",
   "metadata": {},
   "source": [
    "and then let's download an example structure to optimize. Since optimization is computationally intensive we are gonna use a single structure, but everything works with as many proteins you want"
   ]
  },
  {
   "cell_type": "code",
   "execution_count": 2,
   "id": "2c816bc2",
   "metadata": {
    "pycharm": {
     "name": "#%%\n"
    }
   },
   "outputs": [
    {
     "ename": "NameError",
     "evalue": "name 'os' is not defined",
     "output_type": "error",
     "traceback": [
      "\u001b[0;31m---------------------------------------------------------------------------\u001b[0m",
      "\u001b[0;31mNameError\u001b[0m                                 Traceback (most recent call last)",
      "Cell \u001b[0;32mIn [2], line 1\u001b[0m\n\u001b[0;32m----> 1\u001b[0m \u001b[43mos\u001b[49m\u001b[38;5;241m.\u001b[39mmkdir(\u001b[38;5;124m'\u001b[39m\u001b[38;5;124mexampleStructures\u001b[39m\u001b[38;5;124m'\u001b[39m)\n\u001b[1;32m      2\u001b[0m urllib\u001b[38;5;241m.\u001b[39mrequest\u001b[38;5;241m.\u001b[39murlretrieve(\u001b[38;5;124m'\u001b[39m\u001b[38;5;124mhttp://files.rcsb.org/download/101M.pdb\u001b[39m\u001b[38;5;124m'\u001b[39m, \u001b[38;5;124m'\u001b[39m\u001b[38;5;124mexampleStructures/101m.pdb\u001b[39m\u001b[38;5;124m'\u001b[39m)\n",
      "\u001b[0;31mNameError\u001b[0m: name 'os' is not defined"
     ]
    }
   ],
   "source": [
    "   os.mkdir('exampleStructures')\n",
    "   urllib.request.urlretrieve('http://files.rcsb.org/download/101M.pdb', 'exampleStructures/101m.pdb')"
   ]
  },
  {
   "cell_type": "markdown",
   "id": "ea1910a5",
   "metadata": {
    "pycharm": {
     "name": "#%%\n"
    }
   },
   "source": [
    "as in the quickstart tutorial, we need to parse and precalculate the information tensors and generate the MadraX main object (see quickstart for a step to step guide)"
   ]
  },
  {
   "cell_type": "code",
   "execution_count": 3,
   "id": "1b613759",
   "metadata": {},
   "outputs": [
    {
     "ename": "NameError",
     "evalue": "name 'utils' is not defined",
     "output_type": "error",
     "traceback": [
      "\u001b[0;31m---------------------------------------------------------------------------\u001b[0m",
      "\u001b[0;31mNameError\u001b[0m                                 Traceback (most recent call last)",
      "Cell \u001b[0;32mIn [3], line 2\u001b[0m\n\u001b[1;32m      1\u001b[0m device \u001b[38;5;241m=\u001b[39m \u001b[38;5;124m\"\u001b[39m\u001b[38;5;124mcpu\u001b[39m\u001b[38;5;124m\"\u001b[39m\n\u001b[0;32m----> 2\u001b[0m coords, atnames, pdbNames \u001b[38;5;241m=\u001b[39m \u001b[43mutils\u001b[49m\u001b[38;5;241m.\u001b[39mparsePDB(\u001b[38;5;124m\"\u001b[39m\u001b[38;5;124mexampleStructures/\u001b[39m\u001b[38;5;124m\"\u001b[39m) \u001b[38;5;66;03m# get coordinates and atom names\u001b[39;00m\n\u001b[1;32m      3\u001b[0m info_tensors \u001b[38;5;241m=\u001b[39m dataStructures\u001b[38;5;241m.\u001b[39mcreate_info_tensors(atnames,device\u001b[38;5;241m=\u001b[39mdevice)\n\u001b[1;32m      4\u001b[0m forceField_Obj \u001b[38;5;241m=\u001b[39m ForceField(device\u001b[38;5;241m=\u001b[39mdevice)\n",
      "\u001b[0;31mNameError\u001b[0m: name 'utils' is not defined"
     ]
    }
   ],
   "source": [
    "device = \"cpu\"\n",
    "coords, atnames, pdbNames = utils.parsePDB(\"exampleStructures/\") # get coordinates and atom names\n",
    "info_tensors = dataStructures.create_info_tensors(atnames,device=device)\n",
    "forceField_Obj = ForceField(device=device)"
   ]
  },
  {
   "cell_type": "code",
   "execution_count": null,
   "id": "032db206",
   "metadata": {},
   "outputs": [],
   "source": []
  },
  {
   "cell_type": "code",
   "execution_count": null,
   "id": "09fbdee2",
   "metadata": {},
   "outputs": [],
   "source": []
  },
  {
   "cell_type": "code",
   "execution_count": null,
   "id": "f47931f8",
   "metadata": {},
   "outputs": [],
   "source": []
  }
 ],
 "metadata": {
  "kernelspec": {
   "display_name": "Python 3 (ipykernel)",
   "language": "python",
   "name": "python3"
  },
  "language_info": {
   "codemirror_mode": {
    "name": "ipython",
    "version": 3
   },
   "file_extension": ".py",
   "mimetype": "text/x-python",
   "name": "python",
   "nbconvert_exporter": "python",
   "pygments_lexer": "ipython3",
   "version": "3.8.13"
  }
 },
 "nbformat": 4,
 "nbformat_minor": 5
}
